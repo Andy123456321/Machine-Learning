{
 "cells": [
  {
   "cell_type": "markdown",
   "metadata": {},
   "source": [
    "# 机器学习基础（Machine Leaning Basics）"
   ]
  },
  {
   "cell_type": "markdown",
   "metadata": {},
   "source": [
    "## 机器学习中的关键组件\n",
    "首先介绍一些核心组件。无论什么类型的机器学习问题，都会遇到这些组件：\n",
    "\n",
    "* 可以用来学习的数据（data）；\n",
    "\n",
    "* 如何转换数据的模型（model）；\n",
    "\n",
    "* 一个目标函数（objective function），用来量化模型的有效性；\n",
    "\n",
    "* 调整模型参数以优化目标函数的算法（algorithm）。\n",
    "\n",
    "## 机器学习分类\n",
    "\n",
    "* 监督学习（Supervised Learning）\n",
    "    * 回归\n",
    "        * 线性回归\n",
    "        * 正则化回归\n",
    "        * 分位数回归\n",
    "    * 分类\n",
    "        * logistic回归\n",
    "        * 决策树\n",
    "        * 随机森林\n",
    "        * 支持向量机\n",
    "        * 神经网络\n",
    "* 无监督学习 （Unsupervised Learning）\n",
    "    * 降维\n",
    "        * 主成分分析\n",
    "        * 因子分析\n",
    "    * 聚类\n",
    "        * 层次聚类\n",
    "        * k-means\n",
    "        * DBSCAN\n",
    "* 半监督学习\n",
    "* 强化学习（Deep reinforcement learning）\n"
   ]
  }
 ],
 "metadata": {
  "language_info": {
   "name": "python"
  }
 },
 "nbformat": 4,
 "nbformat_minor": 2
}
